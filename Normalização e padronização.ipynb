{
 "cells": [
  {
   "cell_type": "markdown",
   "id": "7825d71f",
   "metadata": {},
   "source": [
    "# Redimensionamento dos dados\n",
    "Redimensionamento são técnicas de pré-processamento para redimensionar nossos dados e deixa-los numa escala padrão para todas as variáveis deixando=os com valores bem menores porém em escala para facilitar a matemática e evitar que nossos dados fiquem enviesados.\n",
    "\n",
    "O viés no dado ou no experimento causa com que os resultados das análises sejam discrepantes das propriedades reais do fenômeno que você de fato quer estudar, estatísticas calculadas usando dados enviesados podem levar a conclusões fatalmente erradas, experimentos enviesados igualmente.\n",
    "\n",
    "Alguns algoritimos se baseiam na distancia entre os dados, como KNN,K-means e SVM etendem a sofrer muito mais com dados não escalados.\n",
    "\n",
    "Imagine uma tabela onde temos peso x altura, uma pessoa adulta pode variar entre 0,10 a 0,40 cm de altura com relação a outra, note que é uma variação mínima na ordem de unidades, agora imagine o peso, um pessoa pode variar em relação a outra de 40 a 100kg, ou seja uma variação na ordem de dezenas ou centenas, quando comparamos 2 grandezas como peso e altura, o peso vai ter uma influência maior nos dados quando usamos algorítimos de aproximação, por este motivo normalizamos ou padronizamos pra trabalharmos com mesmas grandezas e uma não exercer um peso maior na tomada de decisão do que a outra, ou seja um viés maior. \n",
    "\n",
    "Vamos abordar neste estudo 2 técnicas de redimensionamento dos dados, a normalização e a padronização.\n",
    "\n",
    "Veja os gráficos de dados não normalizados:\n",
    "\n",
    "<img src='orig_data.jpg'>"
   ]
  },
  {
   "cell_type": "markdown",
   "id": "e50e120c",
   "metadata": {},
   "source": [
    "# Normalização (min max scaler)\n",
    "A normalização dimensionam os dados para que eles fiquem numa escala entre 0 e 1, essa técnica também é conhecida como Min-Max scaler. e facilita a análise gráfica pois os dados irão ficar dentro dessa faixa.<br>\n",
    "Na normalização até os outliers ficarão entre 0 e 1.\n",
    "\n",
    "<img src='norm_data.jpg'>\n",
    "\n",
    "Formula:\n",
    "<img src=\"norma.jpg\">\n",
    "\n",
    "X' = Valor escalonado\n",
    "X  = Valor normal."
   ]
  },
  {
   "cell_type": "markdown",
   "id": "a87fbdad",
   "metadata": {},
   "source": [
    "# Padronização (standard scaler)\n",
    "Também é uma técnica de dimensionamento porém os valores ficam em torno da média. onde a média e o desvio padrão serão iguais a zero (0).\n",
    "\n",
    "<img src='padro_data.jpg'>\n",
    "\n",
    "Formula:\n",
    "<img src=\"padro.jpg\">\n",
    "\n",
    "U = Média O = Desvio padrão"
   ]
  },
  {
   "cell_type": "markdown",
   "id": "4d28db37",
   "metadata": {},
   "source": [
    "## Vamos primeiro calcular dados dos valores em escala normal"
   ]
  },
  {
   "cell_type": "code",
   "execution_count": 264,
   "id": "31f151b9",
   "metadata": {},
   "outputs": [
    {
     "data": {
      "text/html": [
       "<div>\n",
       "<style scoped>\n",
       "    .dataframe tbody tr th:only-of-type {\n",
       "        vertical-align: middle;\n",
       "    }\n",
       "\n",
       "    .dataframe tbody tr th {\n",
       "        vertical-align: top;\n",
       "    }\n",
       "\n",
       "    .dataframe thead th {\n",
       "        text-align: right;\n",
       "    }\n",
       "</style>\n",
       "<table border=\"1\" class=\"dataframe\">\n",
       "  <thead>\n",
       "    <tr style=\"text-align: right;\">\n",
       "      <th></th>\n",
       "      <th>salario</th>\n",
       "    </tr>\n",
       "  </thead>\n",
       "  <tbody>\n",
       "    <tr>\n",
       "      <th>0</th>\n",
       "      <td>9222</td>\n",
       "    </tr>\n",
       "    <tr>\n",
       "      <th>1</th>\n",
       "      <td>7515</td>\n",
       "    </tr>\n",
       "    <tr>\n",
       "      <th>2</th>\n",
       "      <td>3299</td>\n",
       "    </tr>\n",
       "    <tr>\n",
       "      <th>3</th>\n",
       "      <td>5412</td>\n",
       "    </tr>\n",
       "  </tbody>\n",
       "</table>\n",
       "</div>"
      ],
      "text/plain": [
       "   salario\n",
       "0     9222\n",
       "1     7515\n",
       "2     3299\n",
       "3     5412"
      ]
     },
     "execution_count": 264,
     "metadata": {},
     "output_type": "execute_result"
    }
   ],
   "source": [
    "import pandas as pd\n",
    "import numpy as np\n",
    "\n",
    "df = pd.read_csv('salarios.csv')\n",
    "df.head(4)"
   ]
  },
  {
   "cell_type": "code",
   "execution_count": 265,
   "id": "0e13b8f4",
   "metadata": {},
   "outputs": [
    {
     "name": "stdout",
     "output_type": "stream",
     "text": [
      "Média: 5932.515151515152\n",
      "Médiana: 6050.0\n",
      "Minimo: 1068\n",
      "Maximo: 9951\n",
      "Variância: 6646577.98714417\n",
      "Desvio Padrão: 2578.0958064323695\n"
     ]
    }
   ],
   "source": [
    "\n",
    "# ddof = 0 pq estamos pegando todos valores da população\n",
    "variancia = np.var(df['salario'], ddof=0)\n",
    "# S = raiz da variancia\n",
    "S = np.sqrt(variancia)  \n",
    "\n",
    "\n",
    "\n",
    "media = df.salario.mean()\n",
    "mediana = df.salario.median()\n",
    "minim = df.salario.min()\n",
    "maxim = df.salario.max()\n",
    "print(f'Média: {media}')\n",
    "print(f'Médiana: {mediana}')\n",
    "print(f'Minimo: {minim}')\n",
    "print(f'Maximo: {maxim}')\n",
    "print(f'Variância: {variancia}')\n",
    "print(f'Desvio Padrão: {S}')\n"
   ]
  },
  {
   "cell_type": "markdown",
   "id": "7fa5b9ec",
   "metadata": {},
   "source": [
    "# Exemplo Normalização"
   ]
  },
  {
   "cell_type": "code",
   "execution_count": 266,
   "id": "4bbc3ddf",
   "metadata": {},
   "outputs": [],
   "source": [
    "for idx in df['salario'].index:\n",
    "    df['normalizado'] = ((df['salario'] - minim)/(maxim - minim))"
   ]
  },
  {
   "cell_type": "code",
   "execution_count": 267,
   "id": "ae94d2e2",
   "metadata": {},
   "outputs": [
    {
     "data": {
      "text/html": [
       "<div>\n",
       "<style scoped>\n",
       "    .dataframe tbody tr th:only-of-type {\n",
       "        vertical-align: middle;\n",
       "    }\n",
       "\n",
       "    .dataframe tbody tr th {\n",
       "        vertical-align: top;\n",
       "    }\n",
       "\n",
       "    .dataframe thead th {\n",
       "        text-align: right;\n",
       "    }\n",
       "</style>\n",
       "<table border=\"1\" class=\"dataframe\">\n",
       "  <thead>\n",
       "    <tr style=\"text-align: right;\">\n",
       "      <th></th>\n",
       "      <th>salario</th>\n",
       "      <th>normalizado</th>\n",
       "    </tr>\n",
       "  </thead>\n",
       "  <tbody>\n",
       "    <tr>\n",
       "      <th>0</th>\n",
       "      <td>9222</td>\n",
       "      <td>0.917933</td>\n",
       "    </tr>\n",
       "    <tr>\n",
       "      <th>1</th>\n",
       "      <td>7515</td>\n",
       "      <td>0.725768</td>\n",
       "    </tr>\n",
       "    <tr>\n",
       "      <th>2</th>\n",
       "      <td>3299</td>\n",
       "      <td>0.251154</td>\n",
       "    </tr>\n",
       "    <tr>\n",
       "      <th>3</th>\n",
       "      <td>5412</td>\n",
       "      <td>0.489024</td>\n",
       "    </tr>\n",
       "  </tbody>\n",
       "</table>\n",
       "</div>"
      ],
      "text/plain": [
       "   salario  normalizado\n",
       "0     9222     0.917933\n",
       "1     7515     0.725768\n",
       "2     3299     0.251154\n",
       "3     5412     0.489024"
      ]
     },
     "execution_count": 267,
     "metadata": {},
     "output_type": "execute_result"
    }
   ],
   "source": [
    "df.head(4)"
   ]
  },
  {
   "cell_type": "code",
   "execution_count": 268,
   "id": "3489a46d",
   "metadata": {},
   "outputs": [
    {
     "name": "stdout",
     "output_type": "stream",
     "text": [
      "Media: 0.5476207532945122\n",
      "Mediana: 0.5608465608465608\n",
      "Min: 0.0\n",
      "Max: 1.0\n"
     ]
    }
   ],
   "source": [
    "print(f'Media: {df.normalizado.mean()}')\n",
    "print(f'Mediana: {df.normalizado.median()}')\n",
    "print(f'Min: {df.normalizado.min()}') \n",
    "print(f'Max: {df.normalizado.max()}')"
   ]
  },
  {
   "cell_type": "markdown",
   "id": "6e6c8729",
   "metadata": {},
   "source": [
    "# Exemplo Padronização"
   ]
  },
  {
   "cell_type": "code",
   "execution_count": 269,
   "id": "6b568dcb",
   "metadata": {},
   "outputs": [],
   "source": [
    "for idx in df['salario'].index:\n",
    "    df['padronizado'] = ((df['salario'] - media)/(S))"
   ]
  },
  {
   "cell_type": "code",
   "execution_count": 270,
   "id": "746e4b80",
   "metadata": {},
   "outputs": [
    {
     "data": {
      "text/html": [
       "<div>\n",
       "<style scoped>\n",
       "    .dataframe tbody tr th:only-of-type {\n",
       "        vertical-align: middle;\n",
       "    }\n",
       "\n",
       "    .dataframe tbody tr th {\n",
       "        vertical-align: top;\n",
       "    }\n",
       "\n",
       "    .dataframe thead th {\n",
       "        text-align: right;\n",
       "    }\n",
       "</style>\n",
       "<table border=\"1\" class=\"dataframe\">\n",
       "  <thead>\n",
       "    <tr style=\"text-align: right;\">\n",
       "      <th></th>\n",
       "      <th>salario</th>\n",
       "      <th>normalizado</th>\n",
       "      <th>padronizado</th>\n",
       "    </tr>\n",
       "  </thead>\n",
       "  <tbody>\n",
       "    <tr>\n",
       "      <th>0</th>\n",
       "      <td>9222</td>\n",
       "      <td>0.917933</td>\n",
       "      <td>1.275936</td>\n",
       "    </tr>\n",
       "    <tr>\n",
       "      <th>1</th>\n",
       "      <td>7515</td>\n",
       "      <td>0.725768</td>\n",
       "      <td>0.613819</td>\n",
       "    </tr>\n",
       "    <tr>\n",
       "      <th>2</th>\n",
       "      <td>3299</td>\n",
       "      <td>0.251154</td>\n",
       "      <td>-1.021496</td>\n",
       "    </tr>\n",
       "    <tr>\n",
       "      <th>3</th>\n",
       "      <td>5412</td>\n",
       "      <td>0.489024</td>\n",
       "      <td>-0.201899</td>\n",
       "    </tr>\n",
       "  </tbody>\n",
       "</table>\n",
       "</div>"
      ],
      "text/plain": [
       "   salario  normalizado  padronizado\n",
       "0     9222     0.917933     1.275936\n",
       "1     7515     0.725768     0.613819\n",
       "2     3299     0.251154    -1.021496\n",
       "3     5412     0.489024    -0.201899"
      ]
     },
     "execution_count": 270,
     "metadata": {},
     "output_type": "execute_result"
    }
   ],
   "source": [
    "df.head(4)"
   ]
  },
  {
   "cell_type": "code",
   "execution_count": 271,
   "id": "a1088f5d",
   "metadata": {},
   "outputs": [
    {
     "name": "stdout",
     "output_type": "stream",
     "text": [
      "Media: -0.00\n",
      "Mediana: 0.04557039664380293\n",
      "Min: -1.8868636066115727\n",
      "Max: 1.5587026822116914\n",
      "Variância: 1.0000000000000002\n",
      "Desvio Padrão: 1.0\n"
     ]
    }
   ],
   "source": [
    "# ddof = 0 pq estamos pegando todos valores da população\n",
    "var_p = np.var(df['padronizado'], ddof=0)\n",
    "# S = raiz da variancia\n",
    "S_p = np.sqrt(var_p) \n",
    "\n",
    "med_p = df.padronizado.mean()\n",
    "\n",
    "print(f'Media: {med_p:.2f}')\n",
    "print(f'Mediana: {df.padronizado.median()}')\n",
    "print(f'Min: {df.padronizado.min()}') \n",
    "print(f'Max: {df.padronizado.max()}')\n",
    "print(f'Variância: {var_p}')\n",
    "print(f'Desvio Padrão: {S_p}')\n"
   ]
  },
  {
   "cell_type": "markdown",
   "id": "f737c5b3",
   "metadata": {},
   "source": [
    "# Quando usar Normalização ou Padronização?\n",
    "\n",
    "O indice de resultado RMSE indica qual melhor resultado.-\n",
    "<img src='rmse.jpg'>\n",
    "\n",
    "Tudo depende dos seus dados e do seu algorítimo!\n"
   ]
  },
  {
   "cell_type": "markdown",
   "id": "d6dd895b",
   "metadata": {},
   "source": [
    "# Hands ON"
   ]
  },
  {
   "cell_type": "markdown",
   "id": "a5e79d12",
   "metadata": {},
   "source": [
    "## Importanto base de dados\n",
    "Base de diabetes"
   ]
  },
  {
   "cell_type": "code",
   "execution_count": 272,
   "id": "ce571ebc",
   "metadata": {},
   "outputs": [],
   "source": [
    "arquivo = 'pima-indians-diabetes.csv'\n",
    "colunas=['smn_gvdz', 'glicose', 'pressao', 'esp_pele', 'insulina', 'BMI', 'heredit', 'idade', 'class']\n",
    "df = pd.read_csv(arquivo, names=colunas)"
   ]
  },
  {
   "cell_type": "markdown",
   "id": "1884d801",
   "metadata": {},
   "source": [
    "## Normalizando os dados com minmaxscaler()"
   ]
  },
  {
   "cell_type": "code",
   "execution_count": 273,
   "id": "998bf361",
   "metadata": {},
   "outputs": [],
   "source": [
    "from sklearn.preprocessing import MinMaxScaler\n",
    "\n",
    "# Separando X e y\n",
    "X = df.drop('class', axis=1)\n",
    "y = df['class']\n",
    "\n",
    "# instanciando a classe\n",
    "scaler = MinMaxScaler(feature_range=(0, 1))\n",
    "\n",
    "# normalizando\n",
    "df_normaliz = scaler.fit_transform(X)"
   ]
  },
  {
   "cell_type": "code",
   "execution_count": 274,
   "id": "768e91c7",
   "metadata": {},
   "outputs": [
    {
     "data": {
      "text/plain": [
       "array([[  6.   , 148.   ,  72.   , ...,   0.627,  50.   ,   1.   ],\n",
       "       [  1.   ,  85.   ,  66.   , ...,   0.351,  31.   ,   0.   ],\n",
       "       [  8.   , 183.   ,  64.   , ...,   0.672,  32.   ,   1.   ],\n",
       "       ...,\n",
       "       [  5.   , 121.   ,  72.   , ...,   0.245,  30.   ,   0.   ],\n",
       "       [  1.   , 126.   ,  60.   , ...,   0.349,  47.   ,   1.   ],\n",
       "       [  1.   ,  93.   ,  70.   , ...,   0.315,  23.   ,   0.   ]])"
      ]
     },
     "execution_count": 274,
     "metadata": {},
     "output_type": "execute_result"
    }
   ],
   "source": [
    "# veja a tabela em array antes da normalizacao\n",
    "array = df.values\n",
    "array"
   ]
  },
  {
   "cell_type": "code",
   "execution_count": 275,
   "id": "758f498a",
   "metadata": {},
   "outputs": [
    {
     "data": {
      "text/plain": [
       "array([[0.35294118, 0.74371859, 0.59016393, ..., 0.50074516, 0.23441503,\n",
       "        0.48333333],\n",
       "       [0.05882353, 0.42713568, 0.54098361, ..., 0.39642325, 0.11656704,\n",
       "        0.16666667],\n",
       "       [0.47058824, 0.91959799, 0.52459016, ..., 0.34724292, 0.25362938,\n",
       "        0.18333333],\n",
       "       ...,\n",
       "       [0.29411765, 0.6080402 , 0.59016393, ..., 0.390462  , 0.07130658,\n",
       "        0.15      ],\n",
       "       [0.05882353, 0.63316583, 0.49180328, ..., 0.4485842 , 0.11571307,\n",
       "        0.43333333],\n",
       "       [0.05882353, 0.46733668, 0.57377049, ..., 0.45305514, 0.10119556,\n",
       "        0.03333333]])"
      ]
     },
     "execution_count": 275,
     "metadata": {},
     "output_type": "execute_result"
    }
   ],
   "source": [
    "# veja a tabela em array depois da normalização\n",
    "df_normaliz"
   ]
  },
  {
   "cell_type": "markdown",
   "id": "f398e4a4",
   "metadata": {},
   "source": [
    "# Padronizando dados (standardscaler)"
   ]
  },
  {
   "cell_type": "code",
   "execution_count": 276,
   "id": "ad5044ca",
   "metadata": {},
   "outputs": [],
   "source": [
    "from sklearn.preprocessing import StandardScaler\n",
    "\n",
    "# Separando X e y\n",
    "X = df.drop('class', axis=1)\n",
    "y = df['class']\n",
    "\n",
    "# instanciando a classe\n",
    "scaler = StandardScaler().fit(X)\n",
    "\n",
    "# normalizando\n",
    "df_padro = scaler.transform(X)"
   ]
  },
  {
   "cell_type": "code",
   "execution_count": 277,
   "id": "99e0b581",
   "metadata": {},
   "outputs": [
    {
     "data": {
      "text/plain": [
       "array([[ 0.63994726,  0.84832379,  0.14964075, ...,  0.20401277,\n",
       "         0.46849198,  1.4259954 ],\n",
       "       [-0.84488505, -1.12339636, -0.16054575, ..., -0.68442195,\n",
       "        -0.36506078, -0.19067191],\n",
       "       [ 1.23388019,  1.94372388, -0.26394125, ..., -1.10325546,\n",
       "         0.60439732, -0.10558415],\n",
       "       ...,\n",
       "       [ 0.3429808 ,  0.00330087,  0.14964075, ..., -0.73518964,\n",
       "        -0.68519336, -0.27575966],\n",
       "       [-0.84488505,  0.1597866 , -0.47073225, ..., -0.24020459,\n",
       "        -0.37110101,  1.17073215],\n",
       "       [-0.84488505, -0.8730192 ,  0.04624525, ..., -0.20212881,\n",
       "        -0.47378505, -0.87137393]])"
      ]
     },
     "execution_count": 277,
     "metadata": {},
     "output_type": "execute_result"
    }
   ],
   "source": [
    "# veja a tabela em array depois da padronização\n",
    "df_padro"
   ]
  },
  {
   "cell_type": "markdown",
   "id": "fab632a4",
   "metadata": {},
   "source": [
    "# Vamos prever sem redimensionamento"
   ]
  },
  {
   "cell_type": "code",
   "execution_count": 278,
   "id": "5539dea6",
   "metadata": {},
   "outputs": [
    {
     "name": "stdout",
     "output_type": "stream",
     "text": [
      "Acuracia de 72.3979288685171\n"
     ]
    }
   ],
   "source": [
    "from sklearn.model_selection import KFold\n",
    "from sklearn.model_selection import cross_val_score\n",
    "from sklearn.neighbors import KNeighborsClassifier\n",
    "\n",
    "# separando dados em folds\n",
    "kfold  = KFold(n_splits=5, shuffle=False)\n",
    "\n",
    "# criando modelo\n",
    "modelo = KNeighborsClassifier()\n",
    "\n",
    "# CV\n",
    "res = cross_val_score(modelo, X, y, cv = kfold)\n",
    "acc = res.mean() * 100\n",
    "print(f'Acuracia de {acc}')"
   ]
  },
  {
   "cell_type": "markdown",
   "id": "9ca7cc12",
   "metadata": {},
   "source": [
    "# Prever com dados normalizados"
   ]
  },
  {
   "cell_type": "code",
   "execution_count": 279,
   "id": "4912f3c4",
   "metadata": {},
   "outputs": [
    {
     "name": "stdout",
     "output_type": "stream",
     "text": [
      "Acuracia de 73.96316102198455\n"
     ]
    }
   ],
   "source": [
    "res = cross_val_score(modelo, df_normaliz, y, cv = kfold)\n",
    "acc = res.mean() * 100\n",
    "print(f'Acuracia de {acc}')"
   ]
  },
  {
   "cell_type": "markdown",
   "id": "f319506a",
   "metadata": {},
   "source": [
    "# Prever com dados padronizados"
   ]
  },
  {
   "cell_type": "code",
   "execution_count": 280,
   "id": "922080ce",
   "metadata": {},
   "outputs": [
    {
     "name": "stdout",
     "output_type": "stream",
     "text": [
      "Acuracia de 72.9191070367541\n"
     ]
    }
   ],
   "source": [
    "res = cross_val_score(modelo, df_padro, y, cv = kfold)\n",
    "acc = res.mean() * 100\n",
    "print(f'Acuracia de {acc}')"
   ]
  },
  {
   "cell_type": "code",
   "execution_count": null,
   "id": "17e57aaa",
   "metadata": {},
   "outputs": [],
   "source": []
  },
  {
   "cell_type": "code",
   "execution_count": null,
   "id": "849e156a",
   "metadata": {},
   "outputs": [],
   "source": []
  }
 ],
 "metadata": {
  "kernelspec": {
   "display_name": "Python 3 (ipykernel)",
   "language": "python",
   "name": "python3"
  },
  "language_info": {
   "codemirror_mode": {
    "name": "ipython",
    "version": 3
   },
   "file_extension": ".py",
   "mimetype": "text/x-python",
   "name": "python",
   "nbconvert_exporter": "python",
   "pygments_lexer": "ipython3",
   "version": "3.9.12"
  }
 },
 "nbformat": 4,
 "nbformat_minor": 5
}
